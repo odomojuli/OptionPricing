{
 "metadata": {
  "name": "",
  "signature": "sha256:0c1251961413f324b5b22dc8e1f1017595cfc4489cc649b0604e7d2a7f7e2c97"
 },
 "nbformat": 3,
 "nbformat_minor": 0,
 "worksheets": [
  {
   "cells": [
    {
     "cell_type": "heading",
     "level": 2,
     "metadata": {},
     "source": [
      "OPTION PRICING MODELS"
     ]
    },
    {
     "cell_type": "code",
     "collapsed": false,
     "input": [
      "%pylab inline"
     ],
     "language": "python",
     "metadata": {},
     "outputs": [
      {
       "output_type": "stream",
       "stream": "stdout",
       "text": [
        "Populating the interactive namespace from numpy and matplotlib\n"
       ]
      }
     ],
     "prompt_number": 1
    },
    {
     "cell_type": "heading",
     "level": 3,
     "metadata": {},
     "source": [
      "BINOMIAL TREES"
     ]
    },
    {
     "cell_type": "markdown",
     "metadata": {},
     "source": [
      "<img src=\"Images/Replication_Example.png\" height=400 width=700>\n",
      "<img src=\"Images/Replication_Algebra1.png\" height=400 width=700>\n",
      "<img src=\"Images/Replication_Algebra2.png\" height=400 width=700>\n",
      "<img src=\"Images/Replication_Algebra3.png\" height=400 width=700>\n",
      "<img src=\"Images/MultiperiodTree.png\" height=400 width=700>\n",
      "<img src=\"Images/MultiperiodTree2.png\" height=400 width=700>\n",
      "<img src=\"Images/MultiperiodTree3.png\" height=400 width=700>"
     ]
    },
    {
     "cell_type": "code",
     "collapsed": false,
     "input": [
      "#BINOMIAL MODEL WITHOUT DIVIDENDS\n",
      "#n: number of periods in tree\n",
      "#cp: +1.0 for calls, -1.0 for puts (enter float)\n",
      "#am: 1 for American, 0 for European\n",
      "#model: 1 CRR, 2 JR\n",
      "def BINOMIAL_PRICE0(S,K,T,sig,rf,n,cp,am=0,model=1):\n",
      "    #DEFAULT model=1 (CRR)\n",
      "    #BASIC SET UP\n",
      "    h = T/n   #Length of each time period\n",
      "    S = zeros(array([n+1,n+1])); S[0,0]=S0\n",
      "    if model==1:  #If CRR, Model=1; If JR, Model=2\n",
      "        u = exp(sig*sqrt(h))\n",
      "        d = 1/u\n",
      "        R = exp(rf*h); \n",
      "    if model==2:  \n",
      "        u = exp((rf-0.5*sig**2)*h+sig*sqrt(h)); \n",
      "        d = exp((rf-0.5*sig**2)*h-sig*sqrt(h)); \n",
      "        R = exp(rf*h); \n",
      "    q = (R-d)/(u-d)\n",
      "    for j in range(0,n):\n",
      "        S[0,j+1] = S[0,j]*u\n",
      "        for i in range(0,j+1):\n",
      "            S[i+1,j+1] = S[i,j]*d\n",
      "            \n",
      "    #OPTION VALUATION SEGMENT\n",
      "    C = zeros(array([n+1,n+1]))\n",
      "    C[:,n] = maximum(0.0,cp*(S[:,n]-K))\n",
      "    for j in range(n,-1,-1):\n",
      "        C[0:j,j-1] = (q*C[0:j,j] + (1-q)*C[1:j+1,j])/R\n",
      "        if am==1:\n",
      "            C[0:j,j-1] = maximum(C[0:j,j-1],cp*(S[0:j,j-1]-K))\n",
      "    return C[0,0]"
     ],
     "language": "python",
     "metadata": {},
     "outputs": [],
     "prompt_number": 2
    },
    {
     "cell_type": "code",
     "collapsed": false,
     "input": [
      "#CRR, WITHOUT DIVIDENDS\n",
      "n=100; S0=100.0; K=99.0; T=0.5; sig=0.20; rf=0.03; model=1\n",
      "CallPriceE = BINOMIAL_PRICE0(S0,K,T,sig,rf,n,1.0,0,model)\n",
      "PutPriceE = BINOMIAL_PRICE0(S0,K,T,sig,rf,n,-1.0,0,model)\n",
      "print(\"C_E,P_E,C_E-P_E\",CallPriceE,PutPriceE,CallPriceE-PutPriceE)\n",
      "print(\"S-PV(K)=\",S0-K*exp(-rf*T))\n",
      "CallPriceA = BINOMIAL_PRICE0(S0,K,T,sig,rf,n,1.0,1,model)\n",
      "PutPriceA = BINOMIAL_PRICE0(S0,K,T,sig,rf,n,-1.0,1,model)\n",
      "print(\"C_A,P_A\",CallPriceA,PutPriceA)"
     ],
     "language": "python",
     "metadata": {},
     "outputs": [
      {
       "output_type": "stream",
       "stream": "stdout",
       "text": [
        "('C_E,P_E,C_E-P_E', 6.9025733548584416, 4.4286553755611102, 2.4739179792973314)\n",
        "('S-PV(K)=', 2.4739179792968002)\n",
        "('C_A,P_A', 6.9025733548584416, 4.5402484793800184)\n"
       ]
      }
     ],
     "prompt_number": 3
    },
    {
     "cell_type": "code",
     "collapsed": false,
     "input": [
      "#BINOMIAL MODEL WITH CONTINUOUS DIVIDENDS\n",
      "#n: number of periods in tree\n",
      "#cp: +1.0 for calls, -1.0 for puts (enter float)\n",
      "#am: 1 for American, 0 for European\n",
      "#model: 1 CRR, 2 JR\n",
      "def BINOMIAL_PRICE(S,K,T,sig,rf,dv,n,cp,am=0,model=1):\n",
      "    #DEFAULT model=1 (CRR)\n",
      "    #BASIC SET UP\n",
      "    h = T/n   #Length of each time period\n",
      "    S = zeros(array([n+1,n+1])); S[0,0]=S0\n",
      "    if model==1:  #If CRR, Model=1; If JR, Model=2\n",
      "        u = exp(sig*sqrt(h)); d = 1/u; R = exp(rf*h); \n",
      "    if model==2:  \n",
      "        u = exp((rf-0.5*sig**2)*h+sig*sqrt(h)); \n",
      "        d = exp((rf-0.5*sig**2)*h-sig*sqrt(h)); \n",
      "        R = exp(rf*h); \n",
      "    y = exp(dv*h)-1; \n",
      "    q=(R*exp(-dv*h)-d)/(u-d)\n",
      "    for j in range(0,n):\n",
      "        S[0,j+1] = S[0,j]*u\n",
      "        for i in range(0,j+1):\n",
      "            S[i+1,j+1] = S[i,j]*d\n",
      "    divtree = S*y\n",
      "    pvdiv = zeros(array([n+1,n+1]))\n",
      "            \n",
      "    #OPTION VALUATION SEGMENT\n",
      "    C = zeros(array([n+1,n+1]))\n",
      "    C[:,n] = maximum(0.0,cp*(S[:,n]-K))\n",
      "    pvdiv[:,n] = divtree[:,n]\n",
      "    for j in range(n,-1,-1):\n",
      "        C[0:j,j-1] = (q*C[0:j,j] + (1-q)*C[1:j+1,j])/R\n",
      "        pvdiv[0:j,j-1] = (q*pvdiv[0:j,j] + (1-q)*pvdiv[1:j+1,j])/R\n",
      "        if am==1:\n",
      "            C[0:j,j-1] = maximum(C[0:j,j-1],cp*(S[0:j,j-1]+pvdiv[0:j,j-1]-K))\n",
      "        pvdiv[0:j,j-1] = pvdiv[0:j,j-1] + divtree[0:j,j-1]\n",
      "    return C[0,0]"
     ],
     "language": "python",
     "metadata": {},
     "outputs": [],
     "prompt_number": 4
    },
    {
     "cell_type": "code",
     "collapsed": false,
     "input": [
      "#CRR, WITH DIVIDENDS\n",
      "n=100; S0=100.0; K=99.0; T=0.5; sig=0.20; rf=0.03; dv=0.01; model=1\n",
      "\n",
      "print(\"WITH DIVIDENDS\")\n",
      "CallPriceE = BINOMIAL_PRICE(S0,K,T,sig,rf,dv,n,1.0,0,model)\n",
      "PutPriceE = BINOMIAL_PRICE(S0,K,T,sig,rf,dv,n,-1.0,0,model)\n",
      "print(\"C_E,P_E,C_E-P_E\",CallPriceE,PutPriceE,CallPriceE-PutPriceE)\n",
      "print(\"S-PV(K)-PV(D)=\",S0*exp(-dv*T)-K*exp(-rf*T))\n",
      "CallPriceA = BINOMIAL_PRICE(S0,K,T,sig,rf,dv,n,1.0,1,model)\n",
      "PutPriceA = BINOMIAL_PRICE(S0,K,T,sig,rf,dv,n,-1.0,1,model)\n",
      "print(\"C_A,P_A\",CallPriceA,PutPriceA)\n",
      "\n",
      "#CRR, WITHOUT DIVIDENDS\n",
      "dv=0.0\n",
      "print(\"WITHOUT DIVIDENDS\")\n",
      "CallPriceE = BINOMIAL_PRICE(S0,K,T,sig,rf,dv,n,1.0,0,model)\n",
      "PutPriceE = BINOMIAL_PRICE(S0,K,T,sig,rf,dv,n,-1.0,0,model)\n",
      "print(\"C_E,P_E,C_E-P_E\",CallPriceE,PutPriceE,CallPriceE-PutPriceE)\n",
      "print(\"S-PV(K)-PV(D)=\",S0*exp(-dv*T)-K*exp(-rf*T))\n",
      "CallPriceA = BINOMIAL_PRICE(S0,K,T,sig,rf,dv,n,1.0,1,model)\n",
      "PutPriceA = BINOMIAL_PRICE(S0,K,T,sig,rf,dv,n,-1.0,1,model)\n",
      "print(\"C_A,P_A\",CallPriceA,PutPriceA)"
     ],
     "language": "python",
     "metadata": {},
     "outputs": [
      {
       "output_type": "stream",
       "stream": "stdout",
       "text": [
        "WITH DIVIDENDS\n",
        "('C_E,P_E,C_E-P_E', 6.6079165942317521, 4.6327506956662994, 1.9751658985654528)\n",
        "('S-PV(K)-PV(D)=', 1.975165898565038)\n",
        "('C_A,P_A', 6.607933978703068, 4.6720285175246552)\n",
        "WITHOUT DIVIDENDS\n",
        "('C_E,P_E,C_E-P_E', 6.9025733548584416, 4.4286553755611102, 2.4739179792973314)\n",
        "('S-PV(K)-PV(D)=', 2.4739179792968002)\n",
        "('C_A,P_A', 6.9025733548584416, 4.5402484793800184)\n"
       ]
      }
     ],
     "prompt_number": 5
    },
    {
     "cell_type": "markdown",
     "metadata": {},
     "source": [
      "<img src=\"Images/JarrowRudd.png\" height=400 width=700>"
     ]
    },
    {
     "cell_type": "code",
     "collapsed": false,
     "input": [
      "#JR, WITH DIVIDENDS\n",
      "n=100; S0=100.0; K=99.0; T=0.5; sig=0.20; rf=0.03; dv=0.01; model=2\n",
      "\n",
      "print(\"WITH DIVIDENDS\")\n",
      "CallPriceE = BINOMIAL_PRICE(S0,K,T,sig,rf,dv,n,1.0,0,model)\n",
      "PutPriceE = BINOMIAL_PRICE(S0,K,T,sig,rf,dv,n,-1.0,0,model)\n",
      "print(\"C_E,P_E,C_E-P_E\",CallPriceE,PutPriceE,CallPriceE-PutPriceE)\n",
      "print(\"S-PV(K)-PV(D)=\",S0*exp(-dv*T)-K*exp(-rf*T))\n",
      "CallPriceA = BINOMIAL_PRICE(S0,K,T,sig,rf,dv,n,1.0,1,model)\n",
      "PutPriceA = BINOMIAL_PRICE(S0,K,T,sig,rf,dv,n,-1.0,1,model)\n",
      "print(\"C_A,P_A\",CallPriceA,PutPriceA)\n",
      "\n",
      "#JR, WITHOUT DIVIDENDS\n",
      "dv=0.0\n",
      "print(\"WITHOUT DIVIDENDS\")\n",
      "CallPriceE = BINOMIAL_PRICE(S0,K,T,sig,rf,dv,n,1.0,0,model)\n",
      "PutPriceE = BINOMIAL_PRICE(S0,K,T,sig,rf,dv,n,-1.0,0,model)\n",
      "print(\"C_E,P_E,C_E-P_E\",CallPriceE,PutPriceE,CallPriceE-PutPriceE)\n",
      "print(\"S-PV(K)-PV(D)=\",S0*exp(-dv*T)-K*exp(-rf*T))\n",
      "CallPriceA = BINOMIAL_PRICE(S0,K,T,sig,rf,dv,n,1.0,1,model)\n",
      "PutPriceA = BINOMIAL_PRICE(S0,K,T,sig,rf,dv,n,-1.0,1,model)\n",
      "print(\"C_A,P_A\",CallPriceA,PutPriceA)"
     ],
     "language": "python",
     "metadata": {},
     "outputs": [
      {
       "output_type": "stream",
       "stream": "stdout",
       "text": [
        "WITH DIVIDENDS\n",
        "('C_E,P_E,C_E-P_E', 6.6102023346315235, 4.6350364360661009, 1.9751658985654226)\n",
        "('S-PV(K)-PV(D)=', 1.975165898565038)\n",
        "('C_A,P_A', 6.6102197908346065, 4.6745403750127883)\n",
        "WITHOUT DIVIDENDS\n",
        "('C_E,P_E,C_E-P_E', 6.9049187926176252, 4.4310008133203311, 2.4739179792972941)\n",
        "('S-PV(K)-PV(D)=', 2.4739179792968002)\n",
        "('C_A,P_A', 6.9049187926176252, 4.5430615397779723)\n"
       ]
      }
     ],
     "prompt_number": 6
    },
    {
     "cell_type": "heading",
     "level": 3,
     "metadata": {},
     "source": [
      "CONVERGENCE"
     ]
    },
    {
     "cell_type": "markdown",
     "metadata": {},
     "source": [
      "<img src=\"Images/Convergence1.png\" height=400 width=700>\n",
      "<img src=\"Images/Convergence2.png\" height=400 width=700>\n",
      "<img src=\"Images/Convergence3.png\" height=400 width=700>"
     ]
    },
    {
     "cell_type": "code",
     "collapsed": false,
     "input": [
      "#CHANGING N\n",
      "S0=100.0; K=99.0; T=0.5; sig=0.20; rf=0.03; dv=0.01; cp=-1.0; am=0\n",
      "nn = arange(10,601,5)\n",
      "CRR = zeros(len(nn))\n",
      "JR = zeros(len(nn))\n",
      "j = 0\n",
      "for n in nn:\n",
      "    CRR[j] = BINOMIAL_PRICE(S0,K,T,sig,rf,dv,n,cp,am,model=1)\n",
      "    JR[j] = BINOMIAL_PRICE(S0,K,T,sig,rf,dv,n,cp,am,model=2)\n",
      "    j = j+1\n",
      "plot(nn,CRR)\n",
      "plot(nn,JR)\n",
      "grid()"
     ],
     "language": "python",
     "metadata": {},
     "outputs": [
      {
       "metadata": {},
       "output_type": "display_data",
       "png": "[encoded data removed]",
       "text": [
        "<matplotlib.figure.Figure at 0x105f2fa90>"
       ]
      }
     ],
     "prompt_number": 7
    },
    {
     "cell_type": "heading",
     "level": 3,
     "metadata": {},
     "source": [
      "BLACK-SCHOLES-MERTON (1973)"
     ]
    },
    {
     "cell_type": "code",
     "collapsed": false,
     "input": [
      "#BLACK-SCHOLES-MERTON MODEL\n",
      "from scipy.stats import norm\n",
      "def BSM(S,K,T,sig,rf,dv,cp):  #cp = {+1.0 (calls), -1.0 (puts)}\n",
      "    d1 = (log(S/K)+(rf-dv+0.5*sig**2)*T)/(sig*sqrt(T))\n",
      "    d2 = d1 - sig*sqrt(T)\n",
      "    return cp*S*exp(-dv*T)*norm.cdf(d1*cp) - cp*K*exp(-rf*T)*norm.cdf(d2*cp)"
     ],
     "language": "python",
     "metadata": {},
     "outputs": [],
     "prompt_number": 8
    },
    {
     "cell_type": "code",
     "collapsed": false,
     "input": [
      "#EXAMPLE\n",
      "CallPrice = BSM(S0,K,T,sig,rf,dv,1.0)\n",
      "PutPrice = BSM(S0,K,T,sig,rf,dv,-1.0)\n",
      "print(\"C,P,C-P\",CallPrice,PutPrice,CallPrice-PutPrice)\n",
      "print(\"S-PV(K)-PV(D)=\",S0*exp(-dv*T)-K*exp(-rf*T))    "
     ],
     "language": "python",
     "metadata": {},
     "outputs": [
      {
       "output_type": "stream",
       "stream": "stdout",
       "text": [
        "('C,P,C-P', 6.5966186330112961, 4.621452734446251, 1.9751658985650451)\n",
        "('S-PV(K)-PV(D)=', 1.975165898565038)\n"
       ]
      }
     ],
     "prompt_number": 9
    },
    {
     "cell_type": "heading",
     "level": 3,
     "metadata": {},
     "source": [
      "SPEED UP CODE WITH CYTHON"
     ]
    },
    {
     "cell_type": "code",
     "collapsed": false,
     "input": [
      "%load_ext cythonmagic"
     ],
     "language": "python",
     "metadata": {},
     "outputs": [],
     "prompt_number": 10
    },
    {
     "cell_type": "code",
     "collapsed": false,
     "input": [
      "%%cython\n",
      "cimport cython\n",
      "\n",
      "import numpy as np\n",
      "cimport numpy as np\n",
      "\n",
      "cdef extern from \"math.h\":\n",
      "    double sqrt(double x) nogil\n",
      "    double exp(double x) nogil\n",
      "\n",
      "#BINOMIAL MODEL WITH CONTINUOUS DIVIDENDS IN CYTHON\n",
      "@cython.boundscheck(False)\n",
      "def BINOMIAL_PRICE_CY(double S0, double K, double T, double sig, double rf, double dv, int n, double cp, int am=0, int model=1):\n",
      "    #DEFAULT model=1 (CRR)\n",
      "    #BASIC SET UP\n",
      "    cdef double u, d, R, y, q\n",
      "    cdef int j, i\n",
      "    cdef double h = T/n   #Length of each time period\n",
      "    cdef np.ndarray[np.double_t, ndim=2] S = np.zeros((n+1,n+1))\n",
      "    S[0,0]=S0\n",
      "    if model==1:  #If CRR, Model=1; If JR, Model=2\n",
      "        u = exp(sig*sqrt(h))\n",
      "        d = 1/u\n",
      "        R = exp(rf*h); \n",
      "    if model==2:  \n",
      "        u = exp((rf-0.5*sig**2)*h+sig*sqrt(h)); \n",
      "        d = exp((rf-0.5*sig**2)*h-sig*sqrt(h)); \n",
      "        R = exp(rf*h); \n",
      "    y = exp(dv*h)-1; \n",
      "    q = (R*exp(-dv*h)-d)/(u-d)\n",
      "    for j in range(0,n):\n",
      "        S[0,j+1] = S[0,j]*u\n",
      "        for i in range(0,j+1):\n",
      "            S[i+1,j+1] = S[i,j]*d\n",
      "    cdef np.ndarray[np.double_t, ndim=2] divtree = S*y\n",
      "    cdef np.ndarray[np.double_t, ndim=2] pvdiv = np.zeros((n+1,n+1))\n",
      "            \n",
      "    #OPTION VALUATION SEGMENT\n",
      "    cdef np.ndarray[np.double_t, ndim=2] C = np.zeros((n+1,n+1))\n",
      "    C[:,n] = np.maximum(0.0,cp*(S[:,n]-K))\n",
      "    pvdiv[:,n] = divtree[:,n]\n",
      "    for j in range(n,-1,-1):\n",
      "        C[0:j,j-1] = (q*C[0:j,j] + (1-q)*C[1:j+1,j])/R\n",
      "        pvdiv[0:j,j-1] = (q*pvdiv[0:j,j] + (1-q)*pvdiv[1:j+1,j])/R\n",
      "        if am==1:\n",
      "            C[0:j,j-1] = np.maximum(C[0:j,j-1],cp*(S[0:j,j-1]+pvdiv[0:j,j-1]-K))\n",
      "        pvdiv[0:j,j-1] = pvdiv[0:j,j-1] + divtree[0:j,j-1]\n",
      "    return C[0,0]"
     ],
     "language": "python",
     "metadata": {},
     "outputs": [],
     "prompt_number": 11
    },
    {
     "cell_type": "code",
     "collapsed": false,
     "input": [
      "#JR, WITH DIVIDENDS\n",
      "n=3000; S0=100.0; K=99.0; T=0.5; sig=0.20; rf=0.03; dv=0.01; model=2\n",
      "%time CallPriceA = BINOMIAL_PRICE(S0,K,T,sig,rf,dv,n,1.0,1,model)\n",
      "%time PutPriceA = BINOMIAL_PRICE(S0,K,T,sig,rf,dv,n,-1.0,1,model)\n",
      "print(\"C_A,P_A\",CallPriceA,PutPriceA)\n",
      "\n",
      "%time CallPriceA = BINOMIAL_PRICE_CY(S0,K,T,sig,rf,dv,n,1.0,1,model)\n",
      "%time PutPriceA = BINOMIAL_PRICE_CY(S0,K,T,sig,rf,dv,n,-1.0,1,model)\n",
      "print(\"C_A,P_A\",CallPriceA,PutPriceA)\n",
      "\n",
      "%time CallPrice = BSM(S0,K,T,sig,rf,dv,1.0)\n",
      "%time PutPrice = BSM(S0,K,T,sig,rf,dv,-1.0)\n",
      "print(\"C,P\",CallPrice,PutPrice)"
     ],
     "language": "python",
     "metadata": {},
     "outputs": [
      {
       "output_type": "stream",
       "stream": "stdout",
       "text": [
        "CPU times: user 3.18 s, sys: 193 ms, total: 3.37 s\n",
        "Wall time: 3.35 s\n",
        "CPU times: user 3.15 s, sys: 69.9 ms, total: 3.22 s"
       ]
      },
      {
       "output_type": "stream",
       "stream": "stdout",
       "text": [
        "\n",
        "Wall time: 3.24 s\n",
        "('C_A,P_A', 6.5964655273727582, 4.6599193787846742)\n",
        "CPU times: user 926 ms, sys: 39.6 ms, total: 966 ms"
       ]
      },
      {
       "output_type": "stream",
       "stream": "stdout",
       "text": [
        "\n",
        "Wall time: 1.02 s\n",
        "CPU times: user 933 ms, sys: 40 ms, total: 973 ms"
       ]
      },
      {
       "output_type": "stream",
       "stream": "stdout",
       "text": [
        "\n",
        "Wall time: 973 ms\n",
        "('C_A,P_A', 6.596465527372758, 4.659919378784674)\n",
        "CPU times: user 282 \u00b5s, sys: 1 \u00b5s, total: 283 \u00b5s\n",
        "Wall time: 285 \u00b5s\n",
        "CPU times: user 197 \u00b5s, sys: 0 ns, total: 197 \u00b5s\n",
        "Wall time: 200 \u00b5s\n",
        "('C,P', 6.5966186330112961, 4.621452734446251)\n"
       ]
      }
     ],
     "prompt_number": 12
    },
    {
     "cell_type": "code",
     "collapsed": false,
     "input": [
      "#CHANGING N WITH CYTHON\n",
      "S0=100.0; K=99.0; T=0.5; sig=0.20; rf=0.03; dv=0.01; cp=-1.0; am=0\n",
      "nn = arange(10,601,5)\n",
      "CRR = zeros(len(nn))\n",
      "JR = zeros(len(nn))\n",
      "j = 0\n",
      "for n in nn:\n",
      "    CRR[j] = BINOMIAL_PRICE_CY(S0,K,T,sig,rf,dv,n,cp,am,model=1)\n",
      "    JR[j] = BINOMIAL_PRICE_CY(S0,K,T,sig,rf,dv,n,cp,am,model=2)\n",
      "    j = j+1\n",
      "plot(nn,CRR)\n",
      "plot(nn,JR)\n",
      "grid()"
     ],
     "language": "python",
     "metadata": {},
     "outputs": [
      {
       "metadata": {},
       "output_type": "display_data",
       "png": "[encoded data removed]",
       "text": [
        "<matplotlib.figure.Figure at 0x1043ad190>"
       ]
      }
     ],
     "prompt_number": 29
    },
    {
     "cell_type": "heading",
     "level": 3,
     "metadata": {},
     "source": [
      "IMPLIED VOLATILITY"
     ]
    },
    {
     "cell_type": "code",
     "collapsed": false,
     "input": [
      "def BSMvol(sig,S,K,T,rf,dv,cp,optprice):\n",
      "    return BSM(S,K,T,sig,rf,dv,cp)-optprice\n",
      "\n",
      "from scipy.optimize import fsolve\n",
      "\n",
      "S0=40.0; K=40.0; T=1.0; rf=0.03; dv=0.0; cp=-1.0; \n",
      "optprice = 4.0\n",
      "sol = fsolve(BSMvol,0.2,args=(S0,K,T,rf,dv,cp,optprice))\n",
      "print(\"implied vol = \",sol)"
     ],
     "language": "python",
     "metadata": {},
     "outputs": [
      {
       "output_type": "stream",
       "stream": "stdout",
       "text": [
        "('implied vol = ', array([ 0.29152229]))\n"
       ]
      }
     ],
     "prompt_number": 27
    },
    {
     "cell_type": "code",
     "collapsed": false,
     "input": [
      "#CHECK\n",
      "optp = BSM(S0,K,T,sol,rf,dv,cp)\n",
      "print(\"Check option price = \",optp)"
     ],
     "language": "python",
     "metadata": {},
     "outputs": [
      {
       "output_type": "stream",
       "stream": "stdout",
       "text": [
        "('Check option price = ', array([ 4.]))\n"
       ]
      }
     ],
     "prompt_number": 28
    },
    {
     "cell_type": "code",
     "collapsed": false,
     "input": [],
     "language": "python",
     "metadata": {},
     "outputs": []
    }
   ],
   "metadata": {}
  }
 ]
}